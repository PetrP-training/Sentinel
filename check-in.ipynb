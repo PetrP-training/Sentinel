{
 "cells": [
  {
   "cell_type": "markdown",
   "metadata": {},
   "source": [
    "# Interacting with the infrastructure with your own credentials\n",
    "\n",
    "In this example we use the token to get our own information from\n",
    "Check-in"
   ]
  },
  {
   "cell_type": "code",
   "execution_count": null,
   "metadata": {},
   "outputs": [],
   "source": [
    "import requests"
   ]
  },
  {
   "cell_type": "code",
   "execution_count": null,
   "metadata": {},
   "outputs": [],
   "source": [
    "with open(\"/var/run/secrets/egi.eu/access_token\") as f:\n",
    "    access_token = f.read()\n",
    "\n",
    "print(\"Got an check-in access token: %s...\" % access_token[:10])"
   ]
  },
  {
   "cell_type": "code",
   "execution_count": null,
   "metadata": {},
   "outputs": [],
   "source": [
    "userinfo_url = 'https://aai.egi.eu/auth/realms/egi/protocol/openid-connect/userinfo'\n",
    "\n",
    "r = requests.get(userinfo_url, \n",
    "    headers={'Authorization': 'Bearer %s' % access_token})\n",
    "\n",
    "userinfo = r.json()\n",
    "\n",
    "print(\"My user info:\")\n",
    "print(\"Name: %s\" % userinfo['name'])\n",
    "print(\"email: %s\" % userinfo['email'])"
   ]
  },
  {
   "cell_type": "code",
   "execution_count": null,
   "metadata": {},
   "outputs": [],
   "source": []
  }
 ],
 "metadata": {
  "kernelspec": {
   "display_name": "Python 3",
   "language": "python",
   "name": "python3"
  },
  "language_info": {
   "codemirror_mode": {
    "name": "ipython",
    "version": 3
   },
   "file_extension": ".py",
   "mimetype": "text/x-python",
   "name": "python",
   "nbconvert_exporter": "python",
   "pygments_lexer": "ipython3",
   "version": "3.8.8"
  }
 },
 "nbformat": 4,
 "nbformat_minor": 4
}
